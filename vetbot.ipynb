{
  "nbformat": 4,
  "nbformat_minor": 0,
  "metadata": {
    "colab": {
      "provenance": [],
      "toc_visible": true,
      "authorship_tag": "ABX9TyNUeoPHCAuGW9rUTGyCFdO9",
      "include_colab_link": true
    },
    "kernelspec": {
      "name": "python3",
      "display_name": "Python 3"
    },
    "language_info": {
      "name": "python"
    }
  },
  "cells": [
    {
      "cell_type": "markdown",
      "metadata": {
        "id": "view-in-github",
        "colab_type": "text"
      },
      "source": [
        "<a href=\"https://colab.research.google.com/github/makanadani/vetbot/blob/main/vetbot.ipynb\" target=\"_parent\"><img src=\"https://colab.research.google.com/assets/colab-badge.svg\" alt=\"Open In Colab\"/></a>"
      ]
    },
    {
      "cell_type": "code",
      "execution_count": 26,
      "metadata": {
        "id": "aZBR81ptm75v"
      },
      "outputs": [],
      "source": [
        "# Instala a ferramenta de IA Generativa do Gemini\n",
        "\n",
        "!pip install -q google.genai\n",
        "\n",
        "# Configura a API Key do Google Gemini\n",
        "\n",
        "import os\n",
        "from google.colab import userdata\n",
        "os.environ[\"GOOGLE_API_KEY\"] = userdata.get('GOOGLE_API_KEY')\n",
        "\n",
        "# Configura o cliente da SDK do Gemini\n",
        "\n",
        "from google import genai\n",
        "client = genai.Client()\n",
        "MODEL_ID = \"gemini-2.0-flash\""
      ]
    },
    {
      "cell_type": "code",
      "source": [
        "# Instala framework de agentes do Google\n",
        "\n",
        "!pip install -q google-adk\n",
        "\n",
        "# Importa ferramentas necessárias para construção do agente\n",
        "\n",
        "from google.adk.agents import Agent\n",
        "from google.adk.runners import Runner\n",
        "from google.adk.sessions import InMemorySessionService\n",
        "from google.adk.tools import google_search\n",
        "from google.genai import types\n",
        "from datetime import date\n",
        "import textwrap\n",
        "from IPython.display import display, Markdown\n",
        "import requests\n",
        "import warnings\n",
        "\n",
        "warnings.filterwarnings(\"ignore\")"
      ],
      "metadata": {
        "id": "_VqfEmFOouty"
      },
      "execution_count": 28,
      "outputs": []
    },
    {
      "cell_type": "code",
      "source": [
        "# Função auxiliar que envia uma mensagem para um agente via Runner e retorna a resposta final\n",
        "def call_agent(agent: Agent, message_text: str) -> str:\n",
        "\n",
        "    # Cria um serviço de sessão em memória\n",
        "    session_service = InMemorySessionService()\n",
        "\n",
        "    # Cria uma nova sessão\n",
        "    session = session_service.create_session(app_name=agent.name, user_id=\"user1\", session_id=\"session1\")\n",
        "\n",
        "    # Cria um Runner para o agente\n",
        "    runner = Runner(agent=agent, app_name=agent.name, session_service=session_service)\n",
        "\n",
        "    # Cria o conteúdo da mensagem de entrada\n",
        "    content = types.Content(role=\"user\", parts=[types.Part(text=message_text)])\n",
        "    final_response = \"\"\n",
        "\n",
        "    # Itera assincronamente pelos eventos retornados durante a execução do agente\n",
        "    for event in runner.run(user_id=\"user1\", session_id=\"session1\", new_message=content):\n",
        "        if event.is_final_response():\n",
        "          for part in event.content.parts:\n",
        "            if part.text is not None:\n",
        "              final_response += part.text\n",
        "              final_response += \"\\n\"\n",
        "    return final_response"
      ],
      "metadata": {
        "id": "2bo4r2Kopj4X"
      },
      "execution_count": 30,
      "outputs": []
    },
    {
      "cell_type": "code",
      "source": [
        "# Função auxiliar para exibir texto formatado em Markdown no Colab\n",
        "def to_markdown(text):\n",
        "  text = text.replace('•', '  *')\n",
        "  return Markdown(textwrap.indent(text, '> ', predicate=lambda _: True))"
      ],
      "metadata": {
        "id": "nT4aLI4i69Af"
      },
      "execution_count": 31,
      "outputs": []
    },
    {
      "cell_type": "code",
      "source": [
        "#################################################\n",
        "# --------- Agente 1: VetBot BUSCADOR --------- #\n",
        "#################################################\n",
        "\n",
        "def vetbot_buscador(sintoma, data_de_hoje):\n",
        "  buscador = Agent(\n",
        "      name=\"vetbot_buscador\",\n",
        "      model=\"gemini-2.0-flash\",\n",
        "      description=\"Agente que busca informações no Google\",\n",
        "      tools=[google_search],\n",
        "      instruction=\"\"\"\n",
        "      Você é um assistente de pesquisa veterinária, treinado para buscar informações educativas sobre saúde e comportamento de\n",
        "      cães e gatos no Google (google_search) relacionados ao tópico abaixo. Separe 10 fontes mais relevantes do último ano e priorize\n",
        "      informações de fontes confiáveis e reconhecidas na medicina veterinária, como universidades e associações, nacionais e internacionais.\n",
        "      Sempre ressalte que você não substitui a consulta com um médico veterinário.\"\"\"\n",
        "  )\n",
        "  entrada_vetbot_buscador = f\"Sintoma do Animal: {sintoma}\\nData de hoje: {data_de_hoje}\"\n",
        "  informacoes_gerais = call_agent(buscador, entrada_vetbot_buscador)\n",
        "  return informacoes_gerais"
      ],
      "metadata": {
        "id": "nMAhWGfVqHpv"
      },
      "execution_count": 41,
      "outputs": []
    },
    {
      "cell_type": "code",
      "source": [
        "#################################################\n",
        "# -------- Agente 2: VetBot FILTRADOR -------- #\n",
        "#################################################\n",
        "def vetbot_filtrador(sintoma, informacoes_buscadas):\n",
        "    filtrador = Agent(\n",
        "        name=\"vetbot_filtrador\",\n",
        "        model=\"gemini-2.0-flash\",\n",
        "        description=\"Agente que filtra as informações\",\n",
        "        tools=[google_search],\n",
        "        instruction=\"\"\"\n",
        "        Você é um assistente científico, especializado em estudos de cães e gatos. Com base nas lista de fontes encontradas, você deve usar a\n",
        "        ferramenta de busca do Google (google_search) para embasar as informações encontradas com mais detalhes. Descarte informações de blogs\n",
        "        pessoais, fóruns e sites sem fontes científicas das informações.\n",
        "        \"\"\"\n",
        "    )\n",
        "    entrada_vetbot_filtrador = f\"Sintoma do Animal:{sintoma}\\nInformações buscadas: {informacoes_buscadas}\"\n",
        "    informacoes_filtradas = call_agent(filtrador, entrada_vetbot_filtrador)\n",
        "    return informacoes_filtradas"
      ],
      "metadata": {
        "id": "-eBt649Rqgnu"
      },
      "execution_count": 42,
      "outputs": []
    },
    {
      "cell_type": "code",
      "source": [
        "##########################################\n",
        "# ------ Agente 3: VetBot REVISOR ------ #\n",
        "##########################################\n",
        "def vetbot_revisor(sintoma, resposta_gerada):\n",
        "    revisor = Agent(\n",
        "        name=\"agente_revisor\",\n",
        "        model=\"gemini-2.0-flash\",\n",
        "        description=\"Agente revisor de informações científicas veterinárias.\",\n",
        "        instruction=\"\"\"\n",
        "            Você é um veterinário, especializado em atendimento de cães e gatos. Como tal, você sabe a importância de não realizar prescrições ou sugerir\n",
        "            tratamentos sem a realização de uma consulta com médico veterinário especializado. Dessa forma, revise o texto gerado para excluir quaisquer\n",
        "            informações que possam configurar prescrição ou orientação sobre tratamentos, deixando somente o que for relevante para um tutor cuidar bem do\n",
        "            seu cão ou gato, mantendo o que for importante para que ele entenda sobre o comportamento da espécie e os cuidados mais recomendados. Reforce\n",
        "            que você não substitui o atendimento médico veterinário especializado e oriente-o sobre os riscos de não buscar este tipo de atendimento\n",
        "            em cada caso relatado.\n",
        "            \"\"\"\n",
        "    )\n",
        "    entrada_vetbot_revisor = f\"Sintoma do Animal: {sintoma}\\nRascunho: {resposta_gerada}\"\n",
        "    resposta_final = call_agent(revisor, entrada_vetbot_revisor)\n",
        "    return resposta_final"
      ],
      "metadata": {
        "id": "1lSPGIdoqrXx"
      },
      "execution_count": 49,
      "outputs": []
    },
    {
      "cell_type": "code",
      "source": [
        "data_de_hoje = date.today().strftime(\"%d/%m/%Y\")\n",
        "\n",
        "print(\"🚀 Iniciando o VetBot 🚀\")\n",
        "\n",
        "# Obtém o sintoma apresentado pelo animal\n",
        "sintoma = input(\"❓ Por favor, digite o SINTOMA que o seu animal apresenta: \")\n",
        "\n",
        "# Insere lógica do sistema de agentes\n",
        "if not sintoma:\n",
        "    print(\"Você esqueceu de digitar o sintoma!\")\n",
        "else:\n",
        "    print(f\"Obrigado! Vamos buscar o que há de mais recente sobre {sintoma}\")\n",
        "\n",
        "    informacoes_sintoma = vetbot_buscador(sintoma, data_de_hoje)\n",
        "    print(\"\\n--- 📝 Resultado do Agente 1 (Buscador) ---\\n\")\n",
        "    display(to_markdown(informacoes_sintoma))\n",
        "    print(\"--------------------------------------------------------------\")\n",
        "\n",
        "    informacoes_embasadas = vetbot_filtrador(sintoma, informacoes_sintoma)\n",
        "    print(\"\\n--- 📝 Resultado do Agente 2 (Filtrador) ---\\n\")\n",
        "    display(to_markdown(informacoes_embasadas))\n",
        "    print(\"--------------------------------------------------------------\")\n",
        "\n",
        "    resposta_embasada = vetbot_revisor(sintoma, informacoes_embasadas)\n",
        "    print(\"\\n--- 📝 Resultado do Agente 3 (Revisor) ---\\n\")\n",
        "    display(to_markdown(resposta_embasada))\n",
        "    print(\"--------------------------------------------------------------\")"
      ],
      "metadata": {
        "colab": {
          "base_uri": "https://localhost:8080/",
          "height": 1000
        },
        "id": "XSTH8uhWrUY8",
        "outputId": "534c9e63-3044-4d7f-c029-39b22757ff6c"
      },
      "execution_count": 50,
      "outputs": [
        {
          "output_type": "stream",
          "name": "stdout",
          "text": [
            "🚀 Iniciando o VetBot 🚀\n",
            "❓ Por favor, digite o SINTOMA que o seu animal apresenta: vomito\n",
            "Obrigado! Vamos buscar o que há de mais recente sobre vomito\n",
            "\n",
            "--- 📝 Resultado do Agente 1 (Buscador) ---\n",
            "\n"
          ]
        },
        {
          "output_type": "display_data",
          "data": {
            "text/plain": [
              "<IPython.core.display.Markdown object>"
            ],
            "text/markdown": "> Compreendo. Para te ajudar a entender melhor os possíveis causas e o que fazer em caso de vômito em cães e gatos, vou realizar uma pesquisa no Google buscando informações educativas sobre saúde e comportamento, priorizando fontes confiáveis e recentes (último ano). Após a pesquisa, vou apresentar as informações encontradas, ressaltando que elas não substituem a consulta com um médico veterinário.\n> \n> \n> Olá! O vômito em cães e gatos pode ser um sintoma de diversas condições, desde algo simples como má digestão até problemas mais sérios como infecções ou doenças crônicas. É importante observar o seu animal de estimação com atenção para identificar a causa do vômito e saber quando procurar ajuda veterinária.\n> \n> **Causas Comuns de Vômito em Cães e Gatos:**\n> \n> *   **Indigestão:** Ingestão rápida de comida, excesso de alimento ou alimentos estragados, mudanças na dieta, intolerância alimentar.\n> *   **Corpos estranhos:** Ingestão de objetos como brinquedos, ossos, plantas, fios, elásticos, etc., que podem causar irritação ou obstrução.\n> *   **Infecções:** Vírus, bactérias ou parasitas podem causar inflamação no estômago e intestinos.\n> *   **Doenças:** Problemas gastrointestinais, renais, hepáticos, pancreáticos, doenças endócrinas (diabetes, hipertireoidismo), tumores, etc.\n> *   **Intoxicação:** Ingestão de substâncias tóxicas como produtos de limpeza, medicamentos, plantas venenosas, chocolate, etc.\n> *   **Alergias:** Reações alérgicas a alimentos, medicamentos ou substâncias ambientais.\n> *   **Estresse:** Mudanças na rotina, viagens, ansiedade, medo.\n> *   **Bolas de pelo (em gatos):** Acúmulo de pelos no estômago devido à lambedura.\n> \n> **Quando se Preocupar e Procurar um Veterinário:**\n> \n> *   **Vômito persistente ou frequente:** Mais de duas vezes ao dia ou por mais de 24 horas.\n> *   **Presença de sangue no vômito:** Pode indicar sangramento interno, úlceras ou ingestão de corpos estranhos.\n> *   **Vômito acompanhado de outros sintomas:** Diarreia, perda de apetite, letargia (cansaço excessivo), febre, dor abdominal, desidratação, mudanças no comportamento.\n> *   **Suspeita de ingestão de substância tóxica ou corpo estranho.**\n> *   **Se o animal for filhote ou idoso.**\n> *   **Se o animal tiver alguma doença preexistente ou estiver tomando alguma medicação.**\n> * Tentativas de vomitar sem sucesso, principalmente em cães, podem indicar torção gástrica, uma emergência veterinária.\n> \n> **O que Fazer em Caso de Vômito:**\n> \n> 1.  **Observe o vômito:** Anote a frequência, o aspecto (cor, consistência, conteúdo) e se há outros sintomas.\n> 2.  **Retire a comida:** Suspenda a alimentação por algumas horas (12-24 horas para cães e gatos adultos, menos tempo para filhotes), mas sempre mantenha água fresca à disposição para evitar desidratação.\n> 3.  **Ofereça água em pequenas quantidades:** Se o animal estiver desidratado ou com dificuldade de reter líquidos, ofereça pequenas porções de água com frequência. Água de coco também pode ajudar.\n> 4.  **Dieta leve:** Após o período de jejum, introduza gradualmente uma dieta leve e de fácil digestão, como frango cozido desfiado com arroz branco cozido sem tempero.\n> 5.  **Higiene:** Limpe o local onde o animal vomitou para evitar a proliferação de bactérias e odores.\n> \n> **O que NÃO Fazer:**\n> \n> *   **Não medique o animal por conta própria:** Muitos medicamentos humanos são tóxicos para cães e gatos.\n> *   **Não force o animal a comer:** Se ele não estiver com apetite, espere até que ele se sinta melhor.\n> *   **Não ignore os sinais de alerta:** Se o vômito persistir ou for acompanhado de outros sintomas, procure um veterinário.\n> \n> **Observações Importantes:**\n> \n> *   A cor do vômito pode dar pistas sobre a causa:\n>     *   **Amarelo ou verde:** Presença de bile, geralmente indica estômago vazio.\n>     *   **Branco:** Pode indicar excesso de gás no estômago, indigestão ou inflamação.\n>     *   **Marrom:** Pode ser comida não digerida ou, em casos mais graves, fezes (coprofagia).\n>     *   **Vermelho:** Presença de sangue fresco.\n>     *   **Preto:** Sangue digerido, indica sangramento no trato gastrointestinal superior.\n> *   É importante diferenciar vômito de regurgitação. A regurgitação é um processo passivo, sem esforço abdominal, e geralmente envolve comida não digerida. O vômito é um processo ativo, com contrações musculares e náuseas.\n> \n> Lembre-se que essas informações são apenas um guia. **Em caso de vômito, consulte sempre um médico veterinário para um diagnóstico preciso e tratamento adequado.**\n> \n"
          },
          "metadata": {}
        },
        {
          "output_type": "stream",
          "name": "stdout",
          "text": [
            "--------------------------------------------------------------\n",
            "\n",
            "--- 📝 Resultado do Agente 2 (Filtrador) ---\n",
            "\n"
          ]
        },
        {
          "output_type": "display_data",
          "data": {
            "text/plain": [
              "<IPython.core.display.Markdown object>"
            ],
            "text/markdown": "> Entendi. Para complementar as informações sobre vômito em cães e gatos, realizei algumas pesquisas no Google para trazer informações mais específicas e atualizadas.\n> \n> \n> Com base nas informações encontradas, aqui estão alguns pontos adicionais e complementares sobre o vômito em cães e gatos:\n> \n> **Causas Específicas:**\n> \n> *   **Em filhotes:** Verminoses (como *Toxocara* e *Giardia*), dieta inadequada, ingestão excessiva de comida ou água, megaesôfago (regurgitação confundida com vômito), ingestão de corpo estranho, obstrução intestinal, envenenamento ([fonte 12]).\n> *   **Gatos:** Bolas de pelo (comum em gatos de pelo longo), mudanças na dieta, ingestão de objetos estranhos (fios, elásticos), parasitas intestinais, doenças crônicas (insuficiência renal, doenças hepáticas, diabetes), intoxicação, estresse ([fonte 21]).\n> *   **Cães:** Gastrite, alergia ou intoxicação alimentar, úlcera gastro duodenal, insuficiência renal, verminose, giardíase, virose, doenças hepáticas, ingestão de corpos estranhos, pancreatite, cistite, piometra, problemas neurológicos, tumores ([fontes 4, 6]).\n> *   **Cães de grande porte:** A torção gástrica é mais comum em cães de grande porte que se alimentam apenas uma vez ao dia ([fonte 24]).\n> *   **Envenenamento:** Produtos de limpeza doméstica (não induzir o vômito, mas diluir com água), inseticidas (induzir o vômito com sal grosso e procurar veterinário) ([fonte 7]).\n> \n> **Quando Procurar um Veterinário:**\n> \n> *   Vômito persistente ou frequente (mais de duas vezes ao dia ou por mais de 24 horas) ([fonte 3]).\n> *   Presença de sangue no vômito ([fonte 8]).\n> *   Vômito acompanhado de outros sintomas como diarreia, perda de apetite, letargia, febre, dor abdominal, desidratação, mudanças de comportamento ([fonte 3]).\n> *   Suspeita de ingestão de substância tóxica ou corpo estranho ([fonte 3]).\n> *   Tentativas de vomitar sem sucesso, principalmente em cães ([fonte 3]).\n> *   Se o animal for filhote ou idoso ([fonte 3]).\n> *   Se o animal tiver alguma doença preexistente ou estiver tomando alguma medicação ([fonte 3]).\n> *   Vômitos recorrentes ou acompanhados de outros sintomas (diarreia, febre, letargia) ([fonte 13]).\n> *   Se o cão vomitar mais de uma vez por semana ([fonte 12]).\n> *   Se o vômito persistir por mais de duas semanas ([fonte 22]).\n> \n> **O Que Fazer em Caso de Vômito:**\n> \n> *   Retirar a comida por 8 a 12 horas (cães) ou 12-24 horas (adultos), mas manter água fresca disponível ([fonte 2, 3]).\n> *   Oferecer água em pequenas quantidades para evitar desidratação. Água de coco pode ajudar ([fonte 3]).\n> *   Após o período de jejum, introduzir gradualmente uma dieta leve e de fácil digestão (frango cozido desfiado com arroz branco cozido sem tempero) ([fonte 3]).\n> *   Para cachorros, oferecer água gelada ou água de coco ([fonte 10]).\n> *   Em caso de vômito com espuma branca, analisar o aspecto para informar o veterinário ([fonte 24]).\n> *   Se houver suspeita de envenenamento por inseticida, induzir o vômito com sal grosso e procurar o veterinário ([fonte 7]).\n> \n> **O Que Não Fazer:**\n> \n> *   Não medicar o animal por conta própria ([fonte 3]).\n> *   Não forçar o animal a comer se ele não estiver com apetite ([fonte 3]).\n> *   Não ignorar os sinais de alerta ([fonte 3]).\n> *   Não provocar vômito sem orientação profissional em caso de suspeita de envenenamento ([fonte 18]).\n> \n> **Observações Importantes:**\n> \n> *   A cor do vômito pode dar pistas sobre a causa ([fonte 3]):\n> \n>     *   Amarelo ou verde: Presença de bile, geralmente indica estômago vazio ([fonte 3]).\n>     *   Branco: Excesso de gás no estômago, indigestão ou inflamação ([fonte 3]).\n>     *   Marrom: Comida não digerida ou fezes (coprofagia) ([fonte 3]).\n>     *   Vermelho: Sangue fresco ([fonte 3]).\n>     *   Preto: Sangue digerido, indica sangramento no trato gastrointestinal superior ([fonte 3]).\n> *   É importante diferenciar vômito de regurgitação. A regurgitação é passiva, sem esforço abdominal, e geralmente envolve comida não digerida ([fonte 3]).\n> *   Vômitos frequentes podem indicar problemas de saúde sérios ([fonte 4, 6]).\n> *   Em filhotes, vômito e diarreia podem ser causados por mudanças na dieta, infecções, ingestão de objetos estranhos ou estresse ([fonte 2]).\n> *   Se o vômito for intenso, frequente e acompanhado de outros sintomas, procurar ajuda veterinária ([fonte 8]).\n> \n> Lembre-se de que essas informações são apenas um guia. Em caso de vômito, consulte sempre um médico veterinário para um diagnóstico preciso e tratamento adequado.\n> \n"
          },
          "metadata": {}
        },
        {
          "output_type": "stream",
          "name": "stdout",
          "text": [
            "--------------------------------------------------------------\n",
            "\n",
            "--- 📝 Resultado do Agente 3 (Revisor) ---\n",
            "\n"
          ]
        },
        {
          "output_type": "display_data",
          "data": {
            "text/plain": [
              "<IPython.core.display.Markdown object>"
            ],
            "text/markdown": "> Entendi. Para complementar as informações sobre vômito em cães e gatos, realizei algumas pesquisas no Google para trazer informações mais específicas e atualizadas.\n> \n> Com base nas informações encontradas, aqui estão alguns pontos adicionais e complementares sobre o vômito em cães e gatos:\n> \n> **Causas Específicas:**\n> \n> *   **Em filhotes:** Verminoses (como *Toxocara* e *Giardia*), dieta inadequada, ingestão excessiva de comida ou água, megaesôfago (regurgitação confundida com vômito), ingestão de corpo estranho, obstrução intestinal, envenenamento.\n> *   **Gatos:** Bolas de pelo (comum em gatos de pelo longo), mudanças na dieta, ingestão de objetos estranhos (fios, elásticos), parasitas intestinais, doenças crônicas (insuficiência renal, doenças hepáticas, diabetes), intoxicação, estresse.\n> *   **Cães:** Gastrite, alergia ou intoxicação alimentar, úlcera gastro duodenal, insuficiência renal, verminose, giardíase, virose, doenças hepáticas, ingestão de corpos estranhos, pancreatite, cistite, piometra, problemas neurológicos, tumores.\n> *   **Cães de grande porte:** A torção gástrica é mais comum em cães de grande porte que se alimentam apenas uma vez ao dia.\n> *   **Envenenamento:** Produtos de limpeza doméstica (não induzir o vômito, mas diluir com água).\n> \n> **Quando Procurar um Veterinário:**\n> \n> *   Vômito persistente ou frequente (mais de duas vezes ao dia ou por mais de 24 horas).\n> *   Presença de sangue no vômito.\n> *   Vômito acompanhado de outros sintomas como diarreia, perda de apetite, letargia, febre, dor abdominal, desidratação, mudanças de comportamento.\n> *   Suspeita de ingestão de substância tóxica ou corpo estranho.\n> *   Tentativas de vomitar sem sucesso, principalmente em cães.\n> *   Se o animal for filhote ou idoso.\n> *   Se o animal tiver alguma doença preexistente ou estiver tomando alguma medicação.\n> *   Vômitos recorrentes ou acompanhados de outros sintomas (diarreia, febre, letargia).\n> *   Se o cão vomitar mais de uma vez por semana.\n> *   Se o vômito persistir por mais de duas semanas.\n> \n> **O Que Fazer em Caso de Vômito:**\n> \n> *   Retirar a comida por 8 a 12 horas (cães) ou 12-24 horas (adultos), mas manter água fresca disponível.\n> *   Oferecer água em pequenas quantidades para evitar desidratação.\n> *   Após o período de jejum, introduzir gradualmente uma dieta leve e de fácil digestão (frango cozido desfiado com arroz branco cozido sem tempero).\n> *   Para cachorros, oferecer água gelada ou água de coco.\n> *   Em caso de vômito com espuma branca, analisar o aspecto para informar o veterinário.\n> \n> **O Que Não Fazer:**\n> \n> *   Não medicar o animal por conta própria.\n> *   Não forçar o animal a comer se ele não estiver com apetite.\n> *   Não ignorar os sinais de alerta.\n> *   Não provocar vômito sem orientação profissional em caso de suspeita de envenenamento.\n> \n> **Observações Importantes:**\n> \n> *   A cor do vômito pode dar pistas sobre a causa:\n> \n>     *   Amarelo ou verde: Presença de bile, geralmente indica estômago vazio.\n>     *   Branco: Excesso de gás no estômago, indigestão ou inflamação.\n>     *   Marrom: Comida não digerida ou fezes (coprofagia).\n>     *   Vermelho: Sangue fresco.\n>     *   Preto: Sangue digerido, indica sangramento no trato gastrointestinal superior.\n> *   É importante diferenciar vômito de regurgitação. A regurgitação é passiva, sem esforço abdominal, e geralmente envolve comida não digerida.\n> *   Vômitos frequentes podem indicar problemas de saúde sérios.\n> *   Em filhotes, vômito e diarreia podem ser causados por mudanças na dieta, infecções, ingestão de objetos estranhos ou estresse.\n> *   Se o vômito for intenso, frequente e acompanhado de outros sintomas, procurar ajuda veterinária.\n> \n> **Importante:** As informações aqui fornecidas são apenas um guia informativo e não substituem a necessidade de uma consulta com um médico veterinário qualificado. A automedicação e a falta de diagnóstico adequado podem levar a sérios riscos para a saúde do seu animal. Em caso de vômito, especialmente se persistente ou acompanhado de outros sintomas, procure sempre um profissional para um diagnóstico preciso e tratamento adequado.\n"
          },
          "metadata": {}
        },
        {
          "output_type": "stream",
          "name": "stdout",
          "text": [
            "--------------------------------------------------------------\n"
          ]
        }
      ]
    },
    {
      "cell_type": "code",
      "source": [],
      "metadata": {
        "id": "bNH1rYWytY8_"
      },
      "execution_count": null,
      "outputs": []
    }
  ]
}