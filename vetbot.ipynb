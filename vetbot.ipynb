{
  "nbformat": 4,
  "nbformat_minor": 0,
  "metadata": {
    "colab": {
      "provenance": [],
      "authorship_tag": "ABX9TyOpwZoj8jbM9RDQHgNCjuOU",
      "include_colab_link": true
    },
    "kernelspec": {
      "name": "python3",
      "display_name": "Python 3"
    },
    "language_info": {
      "name": "python"
    }
  },
  "cells": [
    {
      "cell_type": "markdown",
      "metadata": {
        "id": "view-in-github",
        "colab_type": "text"
      },
      "source": [
        "<a href=\"https://colab.research.google.com/github/makanadani/vetbot/blob/main/vetbot.ipynb\" target=\"_parent\"><img src=\"https://colab.research.google.com/assets/colab-badge.svg\" alt=\"Open In Colab\"/></a>"
      ]
    },
    {
      "cell_type": "code",
      "execution_count": 1,
      "metadata": {
        "id": "aZBR81ptm75v",
        "colab": {
          "base_uri": "https://localhost:8080/"
        },
        "outputId": "8e560fb3-34e5-4df3-fc12-a0a01e6c55f2"
      },
      "outputs": [
        {
          "output_type": "stream",
          "name": "stdout",
          "text": [
            "\u001b[?25l   \u001b[90m━━━━━━━━━━━━━━━━━━━━━━━━━━━━━━━━━━━━━━━━\u001b[0m \u001b[32m0.0/1.2 MB\u001b[0m \u001b[31m?\u001b[0m eta \u001b[36m-:--:--\u001b[0m\r\u001b[2K   \u001b[91m━━━━━━━━━━━━━━━━━━\u001b[0m\u001b[90m╺\u001b[0m\u001b[90m━━━━━━━━━━━━━━━━━━━━━\u001b[0m \u001b[32m0.5/1.2 MB\u001b[0m \u001b[31m16.3 MB/s\u001b[0m eta \u001b[36m0:00:01\u001b[0m\r\u001b[2K   \u001b[91m━━━━━━━━━━━━━━━━━━━━━━━━━━━━━━━━━━━━━━━\u001b[0m\u001b[91m╸\u001b[0m \u001b[32m1.2/1.2 MB\u001b[0m \u001b[31m21.5 MB/s\u001b[0m eta \u001b[36m0:00:01\u001b[0m\r\u001b[2K   \u001b[90m━━━━━━━━━━━━━━━━━━━━━━━━━━━━━━━━━━━━━━━━\u001b[0m \u001b[32m1.2/1.2 MB\u001b[0m \u001b[31m15.7 MB/s\u001b[0m eta \u001b[36m0:00:00\u001b[0m\n",
            "\u001b[2K   \u001b[90m━━━━━━━━━━━━━━━━━━━━━━━━━━━━━━━━━━━━━━━━\u001b[0m \u001b[32m232.1/232.1 kB\u001b[0m \u001b[31m13.3 MB/s\u001b[0m eta \u001b[36m0:00:00\u001b[0m\n",
            "\u001b[2K   \u001b[90m━━━━━━━━━━━━━━━━━━━━━━━━━━━━━━━━━━━━━━━━\u001b[0m \u001b[32m95.2/95.2 kB\u001b[0m \u001b[31m6.2 MB/s\u001b[0m eta \u001b[36m0:00:00\u001b[0m\n",
            "\u001b[2K   \u001b[90m━━━━━━━━━━━━━━━━━━━━━━━━━━━━━━━━━━━━━━━━\u001b[0m \u001b[32m217.1/217.1 kB\u001b[0m \u001b[31m13.9 MB/s\u001b[0m eta \u001b[36m0:00:00\u001b[0m\n",
            "\u001b[2K   \u001b[90m━━━━━━━━━━━━━━━━━━━━━━━━━━━━━━━━━━━━━━━━\u001b[0m \u001b[32m334.1/334.1 kB\u001b[0m \u001b[31m20.9 MB/s\u001b[0m eta \u001b[36m0:00:00\u001b[0m\n",
            "\u001b[2K   \u001b[90m━━━━━━━━━━━━━━━━━━━━━━━━━━━━━━━━━━━━━━━━\u001b[0m \u001b[32m125.1/125.1 kB\u001b[0m \u001b[31m10.0 MB/s\u001b[0m eta \u001b[36m0:00:00\u001b[0m\n",
            "\u001b[2K   \u001b[90m━━━━━━━━━━━━━━━━━━━━━━━━━━━━━━━━━━━━━━━━\u001b[0m \u001b[32m65.8/65.8 kB\u001b[0m \u001b[31m5.0 MB/s\u001b[0m eta \u001b[36m0:00:00\u001b[0m\n",
            "\u001b[2K   \u001b[90m━━━━━━━━━━━━━━━━━━━━━━━━━━━━━━━━━━━━━━━━\u001b[0m \u001b[32m119.0/119.0 kB\u001b[0m \u001b[31m8.1 MB/s\u001b[0m eta \u001b[36m0:00:00\u001b[0m\n",
            "\u001b[2K   \u001b[90m━━━━━━━━━━━━━━━━━━━━━━━━━━━━━━━━━━━━━━━━\u001b[0m \u001b[32m194.9/194.9 kB\u001b[0m \u001b[31m13.9 MB/s\u001b[0m eta \u001b[36m0:00:00\u001b[0m\n",
            "\u001b[2K   \u001b[90m━━━━━━━━━━━━━━━━━━━━━━━━━━━━━━━━━━━━━━━━\u001b[0m \u001b[32m62.5/62.5 kB\u001b[0m \u001b[31m4.0 MB/s\u001b[0m eta \u001b[36m0:00:00\u001b[0m\n",
            "\u001b[2K   \u001b[90m━━━━━━━━━━━━━━━━━━━━━━━━━━━━━━━━━━━━━━━━\u001b[0m \u001b[32m103.3/103.3 kB\u001b[0m \u001b[31m7.6 MB/s\u001b[0m eta \u001b[36m0:00:00\u001b[0m\n",
            "\u001b[2K   \u001b[90m━━━━━━━━━━━━━━━━━━━━━━━━━━━━━━━━━━━━━━━━\u001b[0m \u001b[32m44.4/44.4 kB\u001b[0m \u001b[31m3.2 MB/s\u001b[0m eta \u001b[36m0:00:00\u001b[0m\n",
            "\u001b[2K   \u001b[90m━━━━━━━━━━━━━━━━━━━━━━━━━━━━━━━━━━━━━━━━\u001b[0m \u001b[32m72.0/72.0 kB\u001b[0m \u001b[31m5.5 MB/s\u001b[0m eta \u001b[36m0:00:00\u001b[0m\n",
            "\u001b[2K     \u001b[90m━━━━━━━━━━━━━━━━━━━━━━━━━━━━━━━━━━━━━━━━\u001b[0m \u001b[32m44.3/44.3 kB\u001b[0m \u001b[31m1.8 MB/s\u001b[0m eta \u001b[36m0:00:00\u001b[0m\n",
            "\u001b[2K   \u001b[90m━━━━━━━━━━━━━━━━━━━━━━━━━━━━━━━━━━━━━━━━\u001b[0m \u001b[32m9.9/9.9 MB\u001b[0m \u001b[31m35.9 MB/s\u001b[0m eta \u001b[36m0:00:00\u001b[0m\n",
            "\u001b[2K   \u001b[90m━━━━━━━━━━━━━━━━━━━━━━━━━━━━━━━━━━━━━━━━\u001b[0m \u001b[32m6.9/6.9 MB\u001b[0m \u001b[31m81.1 MB/s\u001b[0m eta \u001b[36m0:00:00\u001b[0m\n",
            "\u001b[2K   \u001b[90m━━━━━━━━━━━━━━━━━━━━━━━━━━━━━━━━━━━━━━━━\u001b[0m \u001b[32m79.1/79.1 kB\u001b[0m \u001b[31m4.8 MB/s\u001b[0m eta \u001b[36m0:00:00\u001b[0m\n",
            "\u001b[2K   \u001b[90m━━━━━━━━━━━━━━━━━━━━━━━━━━━━━━━━━━━━━━━━\u001b[0m \u001b[32m54.1/54.1 MB\u001b[0m \u001b[31m17.2 MB/s\u001b[0m eta \u001b[36m0:00:00\u001b[0m\n",
            "\u001b[2K   \u001b[90m━━━━━━━━━━━━━━━━━━━━━━━━━━━━━━━━━━━━━━━━\u001b[0m \u001b[32m323.1/323.1 kB\u001b[0m \u001b[31m21.9 MB/s\u001b[0m eta \u001b[36m0:00:00\u001b[0m\n",
            "\u001b[2K   \u001b[90m━━━━━━━━━━━━━━━━━━━━━━━━━━━━━━━━━━━━━━━━\u001b[0m \u001b[32m11.6/11.6 MB\u001b[0m \u001b[31m108.7 MB/s\u001b[0m eta \u001b[36m0:00:00\u001b[0m\n",
            "\u001b[?25h"
          ]
        }
      ],
      "source": [
        "# Instala a ferramenta de IA Generativa do Gemini\n",
        "!pip install -q google.genai\n",
        "\n",
        "# Instala framework de agentes do Google\n",
        "!pip install -q google-adk\n",
        "\n",
        "# Instala e importa o streamlit para interface\n",
        "!pip install -q streamlit\n",
        "\n",
        "# Instala o ngrok\n",
        "!pip install -q gradio"
      ]
    },
    {
      "cell_type": "code",
      "source": [
        "# Configura a API Key do Google Gemini\n",
        "import os\n",
        "from google.colab import userdata\n",
        "\n",
        "os.environ[\"GOOGLE_API_KEY\"] = userdata.get('GOOGLE_API_KEY')\n",
        "\n",
        "# Configura o cliente da SDK do Gemini\n",
        "from google import genai\n",
        "client = genai.Client()\n",
        "MODEL_ID = \"gemini-2.0-flash\""
      ],
      "metadata": {
        "id": "21cqL5XP8iWL"
      },
      "execution_count": 2,
      "outputs": []
    },
    {
      "cell_type": "code",
      "source": [
        "# Importa ferramentas necessárias para construção do agente\n",
        "from google.colab import userdata\n",
        "from google.adk.agents import Agent\n",
        "from google.adk.runners import Runner\n",
        "from google.adk.sessions import InMemorySessionService\n",
        "from google.adk.tools import google_search\n",
        "from google.genai import types\n",
        "from datetime import date\n",
        "import textwrap\n",
        "from IPython.display import display, Markdown\n",
        "import requests\n",
        "import warnings\n",
        "import re # Para validar o CEP com REGEX\n",
        "import gradio as gr # Para interface\n",
        "warnings.filterwarnings(\"ignore\")"
      ],
      "metadata": {
        "id": "_VqfEmFOouty"
      },
      "execution_count": 3,
      "outputs": []
    },
    {
      "cell_type": "code",
      "source": [
        "# Função auxiliar que envia uma mensagem para um agente via Runner e retorna a resposta final\n",
        "def call_agent(agent: Agent, message_text: str) -> str:\n",
        "\n",
        "    # Cria um serviço de sessão em memória\n",
        "    session_service = InMemorySessionService()\n",
        "\n",
        "    # Cria uma nova sessão\n",
        "    session = session_service.create_session(app_name=agent.name, user_id=\"user1\", session_id=\"session1\")\n",
        "\n",
        "    # Cria um Runner para o agente\n",
        "    runner = Runner(agent=agent, app_name=agent.name, session_service=session_service)\n",
        "\n",
        "    # Cria o conteúdo da mensagem de entrada\n",
        "    content = types.Content(role=\"user\", parts=[types.Part(text=message_text)])\n",
        "    final_response = \"\"\n",
        "\n",
        "    # Itera assincronamente pelos eventos retornados durante a execução do agente\n",
        "    for event in runner.run(user_id=\"user1\", session_id=\"session1\", new_message=content):\n",
        "        if event.is_final_response():\n",
        "          for part in event.content.parts:\n",
        "            if part.text is not None:\n",
        "              final_response += part.text\n",
        "              final_response += \"\\n\"\n",
        "    return final_response"
      ],
      "metadata": {
        "id": "2bo4r2Kopj4X"
      },
      "execution_count": 4,
      "outputs": []
    },
    {
      "cell_type": "code",
      "source": [
        "# Função auxiliar para exibir texto formatado em Markdown no Colab\n",
        "def to_markdown(text):\n",
        "  text = text.replace('•', '  *')\n",
        "  return Markdown(textwrap.indent(text, '> ', predicate=lambda _: True))"
      ],
      "metadata": {
        "id": "nT4aLI4i69Af"
      },
      "execution_count": 5,
      "outputs": []
    },
    {
      "cell_type": "code",
      "source": [
        "#################################################\n",
        "# --------- Agente 1: VetBot BUSCADOR --------- #\n",
        "#################################################\n",
        "\n",
        "def vetbot_buscador(sintoma, especie, idade, raca, porte, sexo, castrado, cep, data_de_hoje):\n",
        "  buscador = Agent(\n",
        "      name=\"vetbot_buscador\",\n",
        "      model=\"gemini-2.0-flash\",\n",
        "      description=\"Agente que busca informações veterinárias confiáveis no Google.\",\n",
        "      tools=[google_search],\n",
        "      instruction=\"\"\"\n",
        "      Você é um assistente de pesquisa veterinária, treinado para buscar informações educativas sobre saúde e comportamento de cães e gatos no\n",
        "      Google (google_search) relacionadas ao assunto abaixo, considerando a espécie, idade, raça, porte e sexo do animal. Busque por informações sobre\n",
        "      o sintoma/comportamento do animal descrito, priorizando informações de fontes confiáveis e reconhecidas na medicina veterinária, como associações (WSAVA,\n",
        "      AAHA, AAFCO, AVMA, FECAVA, RCVS, Fear Free Pets, CFMV, CRMV), universidades (federais e estaduais do Brasil ou de renome internacionais, como Royal College,\n",
        "      Cornell, UC Davis, Colorado State University) e artigos científicos (PubVet, Scielo, Merck Veterinary Manual, DOAJ, BMC, Frontiers in Veterinary Science,\n",
        "      Veterinary Sciences MDPI, NCBI PubMed Central). Tente focar em informações publicadas no último ano, sempre que possível. Busque também por hospitais\n",
        "      ou clínicas veterinárias 24 horas próximos ao CEP mencionado, conferindo se estão na mesma cidade e excluindo os que não estejam.\n",
        "      \"\"\"\n",
        "  )\n",
        "  entrada_vetbot_buscador = f\"\"\"\n",
        "  Por favor, pesquise sobre o seguinte:\n",
        "  - Sintoma/Comportamento: {sintoma}\n",
        "  - Espécie: {especie}\n",
        "  - Idade: {idade}\n",
        "  - Raça: {raca if raca else 'Sem raça definida'}\n",
        "  - Porte: {porte}\n",
        "  - Sexo: {sexo}\n",
        "  - Castrado(a): {castrado}\n",
        "  - CEP: {cep}\n",
        "  - Data atual: {data_de_hoje}\n",
        "  \"\"\"\n",
        "  informacoes_gerais = call_agent(buscador, entrada_vetbot_buscador)\n",
        "  return informacoes_gerais"
      ],
      "metadata": {
        "id": "nMAhWGfVqHpv"
      },
      "execution_count": 6,
      "outputs": []
    },
    {
      "cell_type": "code",
      "source": [
        "#################################################\n",
        "# -------- Agente 2: VetBot FILTRADOR -------- #\n",
        "#################################################\n",
        "\n",
        "def vetbot_filtrador(sintoma, especie, idade, raca, porte, sexo, castrado, cep, informacoes_buscadas):\n",
        "    filtrador = Agent(\n",
        "        name=\"vetbot_filtrador\",\n",
        "        model=\"gemini-2.0-flash\",\n",
        "        description=\"Agente que filtra, valida e sintetiza informações veterinárias com base científica.\",\n",
        "        tools=[google_search],\n",
        "        instruction=\"\"\"\n",
        "        Você é um assistente científico e veterinário, especializado em estudos de cães e gatos. Sua tarefa é analisar as informações encontradas sobre\n",
        "        o sintoma/comportamento no animal cujos dados constam na entrada. Com base na lista de informações e fontes fornecidas, sintetize os principais\n",
        "        pontos de forma clara e didática para um tutor. Priorize informações com aparente base científica ou clínica, descartando explicitamente ou\n",
        "        tratando com extrema cautela informações de blogs pessoais, fóruns e sites sem fontes científicas claras ou que pareçam anedóticas. Foque no\n",
        "        conhecimento embasado sobre as possíveis causas gerais, o que observar em casa, e os níveis de urgência relevantes para um animal da espécie,\n",
        "        idade, raça, porte e sexo apresentados. Mantenha um tom informativo e educativo, removendo sugestões de diagnósticos e de tratamentos. Liste as\n",
        "        fontes das informações e os hospitais e clínicas veterinários 24 horas recebidos.\n",
        "        \"\"\"\n",
        "    )\n",
        "    entrada_vetbot_filtrador = f\"\"\"\n",
        "    Detalhes do Animal:\n",
        "    - Espécie: {especie}\n",
        "    - Idade: {idade}\n",
        "    - Raça: {raca if raca else 'Sem raça definida'}\n",
        "    - Porte: {porte}\n",
        "    - Sexo: {sexo if sexo else 'Não informado'}\n",
        "    - Castrado(a): {castrado}\n",
        "    - CEP: {cep}\n",
        "    - Sintoma/Comportamento principal: {sintoma}\n",
        "    A seguir, estão as informações encontradas na pesquisa inicial.\n",
        "    Por favor, analise-as, filtre o conteúdo confiável e sintetize os pontos principais relevantes para este animal: {informacoes_buscadas}\n",
        "    \"\"\"\n",
        "    informacoes_filtradas = call_agent(filtrador, entrada_vetbot_filtrador)\n",
        "    return informacoes_filtradas"
      ],
      "metadata": {
        "id": "-eBt649Rqgnu"
      },
      "execution_count": 7,
      "outputs": []
    },
    {
      "cell_type": "code",
      "source": [
        "##########################################\n",
        "# ------ Agente 3: VetBot REVISOR ------ #\n",
        "##########################################\n",
        "def vetbot_revisor(nome_pet, sintoma, especie, idade, raca, porte, sexo, castrado, cep, resposta_gerada):\n",
        "    revisor = Agent(\n",
        "        name=\"agente_revisor\",\n",
        "        model=\"gemini-2.0-flash\",\n",
        "        description=\"Agente revisor final para garantir segurança, clareza e relevância veterinária.\",\n",
        "        instruction=\"\"\"\n",
        "        Você é um médico veterinário experiente, especializado em atendimento de cães e gatos. Sua função é revisar o texto gerado para o tutor do animal\n",
        "        descrito. Como veterinário, você sabe a importância de não realizar prescrições, diagnósticos ou sugerir tratamentos sem uma consulta presencial e\n",
        "        exames. Revise o texto fornecido (o \"Rascunho\") para:\n",
        "        1. Exclua quaisquer informações que possam configurar prescrição, diagnóstico ou orientação sobre tratamentos específicos (nomes de remédios,\n",
        "        doses, procedimentos, o que fazer, etc.).\n",
        "        2. Mantenha apenas o que for relevante para um tutor entender o sintoma ou comportamento apresentado no contexto da espécie, idade, raça, porte e\n",
        "        sexo do animal. Isso inclui informações sobre o comportamento normal da espécie, possíveis causas gerais, o que observar em casa e o que não fazer,\n",
        "        desmistificando medidas não científicas e citando as fontes das informações. Use uma linguagem clara, empática e acessível ao tutor do animal.\n",
        "        3. Obrigatório: Liste o nível de urgência aparente dentre a lista: EMERGÊNCIA, CONSULTA, MONITORAMENTO e COMPORTAMENTO COMUM.\n",
        "        4. Obrigatório: Personalize a resposta utilizando o nome real do pet e levando em consideração seus dados nas informações fornecidas.\n",
        "        5. Obrigatório: Reforce claramente em sua resposta final (NO INÍCIO E NO FIM) que você é apenas um assistente virtual e não substitui\n",
        "        o atendimento médico veterinário especializado.\n",
        "        6. Obrigatório: Liste os hospitais ou clínicas veterinários 24 horas recebidos.\n",
        "        7. Quando necessário, oriente o tutor sobre os riscos de não buscar esta consulta, considerando a possível gravidade implícita do sintoma\n",
        "        para um animal com as características apresentadas. Use as categorias de nível de urgência de forma clara.\n",
        "        \"\"\"\n",
        "    )\n",
        "    entrada_vetbot_revisor = f\"\"\"\n",
        "    Detalhes do Animal:\n",
        "    - Nome do Pet: {nome_pet}\n",
        "    - Espécie: {especie}\n",
        "    - Idade: {idade}\n",
        "    - Raça: {raca if raca else 'Sem raça definida'}\n",
        "    - Porte: {porte}\n",
        "    - Sexo: {sexo if sexo else 'Não informado'}\n",
        "    - Castrado(a): {castrado}\n",
        "    - CEP: {cep}\n",
        "    - Sintoma/Comportamento principal: {sintoma}\n",
        "    Rascunho da resposta a ser revisada:\n",
        "    {resposta_gerada}\n",
        "    \"\"\"\n",
        "\n",
        "    resposta_final = call_agent(revisor, entrada_vetbot_revisor)\n",
        "\n",
        "    markdown_resposta = f\"\"\"\\\n",
        "    {resposta_final}\n",
        "    \"\"\"\n",
        "\n",
        "    return markdown_resposta\n"
      ],
      "metadata": {
        "id": "1lSPGIdoqrXx"
      },
      "execution_count": 22,
      "outputs": []
    },
    {
      "cell_type": "code",
      "source": [
        "# Interface com Gradio\n",
        "def vetbot_pipeline(nome_pet, especie, idade, raca, porte, sexo, castrado, cep, sintoma):\n",
        "    nome_pet = nome_pet.strip().capitalize()\n",
        "    raca = raca.strip().capitalize() if raca else \"Sem raça definida\"\n",
        "    cep_padrao = re.compile(r'^\\d{5}-?\\d{3}$')\n",
        "    data_de_hoje = date.today().strftime(\"%d/%m/%Y\")\n",
        "\n",
        "    if not nome_pet:\n",
        "        yield \"❌ Por favor, digite o nome do seu pet.\", \"\"\n",
        "        return\n",
        "    if not sintoma.strip():\n",
        "        yield \"❌ Por favor, descreva o sintoma ou o comportamento observado.\", \"\"\n",
        "        return\n",
        "    if cep and not cep_padrao.fullmatch(cep.strip()):\n",
        "        yield \"❌ CEP inválido.\", \"\"\n",
        "        return\n",
        "    cep = cep.replace(\"-\", \"\") if cep else \"\"\n",
        "\n",
        "    if especie.lower() == \"gato\":\n",
        "        porte = \"não aplicável\"\n",
        "\n",
        "    try:\n",
        "        yield \"\", \"🔎 Etapa 1: Buscando informações sobre o sintoma...\"\n",
        "        informacoes_buscadas = vetbot_buscador(sintoma, especie, idade, raca, porte, sexo, castrado, cep, data_de_hoje)\n",
        "\n",
        "        yield \"\", \"🧪 Etapa 2: Filtrando resultados com base nas características do pet...\"\n",
        "        informacoes_filtradas = vetbot_filtrador(sintoma, especie, idade, raca, porte, sexo, castrado, cep, informacoes_buscadas)\n",
        "\n",
        "        yield \"\", \"🧠 Etapa 3: Gerando resposta personalizada com base nas evidências...\"\n",
        "        resposta = vetbot_revisor(nome_pet, sintoma, especie, idade, raca, porte, sexo, castrado, cep, informacoes_filtradas)\n",
        "\n",
        "        yield resposta, \"✅ Pronto! Aqui está a resposta completa.\"\n",
        "\n",
        "    except Exception as e:\n",
        "        yield f\"❌ Erro ao processar: {e}\", \"⚠️ Ocorreu uma falha na execução. Tente novamente.\"\n",
        "\n",
        "\n",
        "def atualizar_visibilidade_pelo_animal(valor_especie):\n",
        "    if valor_especie.lower() == \"cão\":\n",
        "        return gr.update(visible=True), None\n",
        "    else:\n",
        "        return gr.update(visible=False), None\n",
        "\n",
        "\n",
        "with gr.Blocks(title=\"VetBot 🐾\") as demo:\n",
        "    gr.Image(\n",
        "        value=\"vetbot.png\",\n",
        "        show_label=False,\n",
        "        width=500\n",
        "    )\n",
        "\n",
        "    gr.Markdown(\"<h1 style='text-align: center;'>🐶🤖 VetBot - O Assistente Virtual do Seu Pet! 🐱</h1>\")\n",
        "    gr.Markdown(\"<p style='text-align: center;'>Obtenha orientações educativas sobre sintomas ou comportamentos do seu pet!</p>\")\n",
        "    gr.Markdown(\"<h3 style='text-align: center;'><strong>O VetBot NÃO SUBSTITUI O ATENDIMENTO VETERINÁRIO!</strong></h3>\")\n",
        "\n",
        "    with gr.Row():\n",
        "        nome_pet = gr.Textbox(label=\"📝 Nome do Pet*\")\n",
        "        especie = gr.Dropdown([\"Cão\", \"Gato\"], label=\"🐾 Espécie*\", interactive=True)\n",
        "\n",
        "    idade = gr.Dropdown([\n",
        "        \"Filhote (até 6 meses)\",\n",
        "        \"Jovem (de 7 a 18 meses)\",\n",
        "        \"Adulto (de 19 meses a 7 anos)\",\n",
        "        \"Meia-idade (de 7 a 10 anos)\",\n",
        "        \"Idoso (acima de 10 anos)\",\n",
        "        \"Não sei\"\n",
        "    ], label=\"🎂 Faixa Etária*\")\n",
        "\n",
        "    raca = gr.Textbox(label=\"🐕🐈 Raça (opcional)\", placeholder=\"Ex: Labrador, Siamês\")\n",
        "\n",
        "    porte = gr.Dropdown([\n",
        "        \"Pequeno (até 10 kg)\",\n",
        "        \"Médio (11-25 kg)\",\n",
        "        \"Grande (26-44 kg)\",\n",
        "        \"Gigante (mais de 45 kg)\",\n",
        "        \"Não sei\"],\n",
        "        label=\"📏 Porte*\",\n",
        "        interactive=True,\n",
        "        value=None,\n",
        "        visible=True\n",
        "    )\n",
        "\n",
        "    sexo = gr.Dropdown([\"Macho\", \"Fêmea\", \"Não sei\"], label=\"⚧️ Sexo*\")\n",
        "    castrado = gr.Dropdown([\"Sim\", \"Não\", \"Não sei\"], label=\"✂️ Castrado(a)?*\")\n",
        "    cep = gr.Textbox(label=\"📍 CEP (opcional)\", placeholder=\"Ex: 12345000 ou 12345-000\")\n",
        "    sintoma = gr.Textbox(label=\"🩺 Descreva o sintoma ou comportamento observado:*\", lines=3, placeholder=\"Ex: Está vomitando há 1 dia.\")\n",
        "\n",
        "    botao = gr.Button(\"🔎 Consultar VetBot\")\n",
        "    saida = gr.Markdown(label=\"📋 Resposta do VetBot\")\n",
        "    status_output = gr.Markdown(label=\"📡 Status do VetBot\", value=\"\")\n",
        "\n",
        "    especie.change(fn=atualizar_visibilidade_pelo_animal, inputs=especie, outputs=[porte, porte])\n",
        "\n",
        "    botao.click(\n",
        "        fn=vetbot_pipeline,\n",
        "        inputs=[nome_pet, especie, idade, raca, porte, sexo, castrado, cep, sintoma],\n",
        "        outputs=[saida, status_output]\n",
        "    )\n",
        "\n",
        "\n",
        "demo.launch(share=True)\n"
      ],
      "metadata": {
        "colab": {
          "base_uri": "https://localhost:8080/",
          "height": 614
        },
        "id": "QXqhhblG88Cp",
        "outputId": "5a88fc8e-ee33-4cba-d170-11ba15002136"
      },
      "execution_count": 23,
      "outputs": [
        {
          "output_type": "stream",
          "name": "stdout",
          "text": [
            "Colab notebook detected. To show errors in colab notebook, set debug=True in launch()\n",
            "* Running on public URL: https://3c05662fa12f728262.gradio.live\n",
            "\n",
            "This share link expires in 1 week. For free permanent hosting and GPU upgrades, run `gradio deploy` from the terminal in the working directory to deploy to Hugging Face Spaces (https://huggingface.co/spaces)\n"
          ]
        },
        {
          "output_type": "display_data",
          "data": {
            "text/plain": [
              "<IPython.core.display.HTML object>"
            ],
            "text/html": [
              "<div><iframe src=\"https://3c05662fa12f728262.gradio.live\" width=\"100%\" height=\"500\" allow=\"autoplay; camera; microphone; clipboard-read; clipboard-write;\" frameborder=\"0\" allowfullscreen></iframe></div>"
            ]
          },
          "metadata": {}
        },
        {
          "output_type": "execute_result",
          "data": {
            "text/plain": []
          },
          "metadata": {},
          "execution_count": 23
        }
      ]
    },
    {
      "cell_type": "code",
      "source": [],
      "metadata": {
        "id": "cKK_OrouNNCd"
      },
      "execution_count": null,
      "outputs": []
    }
  ]
}